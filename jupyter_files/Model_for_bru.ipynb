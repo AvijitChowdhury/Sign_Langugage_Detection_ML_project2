{
  "cells": [
    {
      "cell_type": "markdown",
      "metadata": {
        "id": "23YphP5l1h5Z"
      },
      "source": [
        "### Importing the Libraries"
      ]
    },
    {
      "cell_type": "code",
      "execution_count": 39,
      "metadata": {
        "id": "04Siixg01h5b"
      },
      "outputs": [],
      "source": [
        "import tensorflow as tf\n",
        "from keras.preprocessing.image import ImageDataGenerator\n",
        "import os\n",
        "os.environ[\"CUDA_VISIBLE_DEVICES\"] = \"1\""
      ]
    },
    {
      "cell_type": "code",
      "execution_count": 40,
      "metadata": {
        "colab": {
          "base_uri": "https://localhost:8080/",
          "height": 35
        },
        "id": "9oo6plRz1h5c",
        "outputId": "99983c13-725d-495f-9fd3-ae4cd2232aa1"
      },
      "outputs": [
        {
          "output_type": "execute_result",
          "data": {
            "text/plain": [
              "'2.12.0'"
            ],
            "application/vnd.google.colaboratory.intrinsic+json": {
              "type": "string"
            }
          },
          "metadata": {},
          "execution_count": 40
        }
      ],
      "source": [
        "tf.__version__ "
      ]
    },
    {
      "cell_type": "markdown",
      "metadata": {
        "id": "an7Dk1kR1h5d"
      },
      "source": [
        "### Part 1 - Data Preprocessing"
      ]
    },
    {
      "cell_type": "markdown",
      "metadata": {
        "id": "sS53W8KA1h5d"
      },
      "source": [
        "#### Generating images for the Training set"
      ]
    },
    {
      "cell_type": "code",
      "execution_count": 41,
      "metadata": {
        "id": "vdTKBkRC1h5e"
      },
      "outputs": [],
      "source": [
        "train_datagen = ImageDataGenerator(rescale = 1./255,\n",
        "                                   shear_range = 0.2,\n",
        "                                   zoom_range = 0.2,\n",
        "                                   horizontal_flip = True)"
      ]
    },
    {
      "cell_type": "markdown",
      "metadata": {
        "id": "gu66NZJV1h5e"
      },
      "source": [
        "#### Generating images for the Test set"
      ]
    },
    {
      "cell_type": "code",
      "execution_count": 42,
      "metadata": {
        "id": "kwmX5k5Y1h5e"
      },
      "outputs": [],
      "source": [
        "test_datagen = ImageDataGenerator(rescale = 1./255)"
      ]
    },
    {
      "cell_type": "code",
      "source": [
        "!wget https://github.com/AvijitChowdhury/Sign-Language-To-Text-Conversion1/archive/refs/heads/main.zip\n",
        "\n"
      ],
      "metadata": {
        "id": "LVdw83N6ABOX",
        "colab": {
          "base_uri": "https://localhost:8080/"
        },
        "outputId": "c17d9609-cb0a-400f-dd9f-0f5d61f94d6c"
      },
      "execution_count": 43,
      "outputs": [
        {
          "output_type": "stream",
          "name": "stdout",
          "text": [
            "--2023-04-01 17:10:35--  https://github.com/AvijitChowdhury/Sign-Language-To-Text-Conversion1/archive/refs/heads/main.zip\n",
            "Resolving github.com (github.com)... 140.82.113.3\n",
            "Connecting to github.com (github.com)|140.82.113.3|:443... connected.\n",
            "HTTP request sent, awaiting response... 302 Found\n",
            "Location: https://codeload.github.com/AvijitChowdhury/Sign-Language-To-Text-Conversion1/zip/refs/heads/main [following]\n",
            "--2023-04-01 17:10:35--  https://codeload.github.com/AvijitChowdhury/Sign-Language-To-Text-Conversion1/zip/refs/heads/main\n",
            "Resolving codeload.github.com (codeload.github.com)... 140.82.114.9\n",
            "Connecting to codeload.github.com (codeload.github.com)|140.82.114.9|:443... connected.\n",
            "HTTP request sent, awaiting response... 200 OK\n",
            "Length: unspecified [application/zip]\n",
            "Saving to: ‘main.zip.2’\n",
            "\n",
            "main.zip.2              [              <=>   ] 421.79M  26.3MB/s    in 16s     \n",
            "\n",
            "2023-04-01 17:10:52 (25.7 MB/s) - ‘main.zip.2’ saved [442279055]\n",
            "\n"
          ]
        }
      ]
    },
    {
      "cell_type": "code",
      "source": [
        "!unzip main.zip"
      ],
      "metadata": {
        "id": "5f9uFuWMAZeO",
        "colab": {
          "base_uri": "https://localhost:8080/"
        },
        "outputId": "f662ea35-4d5a-4278-b37e-56abdbd4d757"
      },
      "execution_count": 44,
      "outputs": [
        {
          "output_type": "stream",
          "name": "stdout",
          "text": [
            "Archive:  main.zip\n",
            "5d90dd4f608245cabf41f540a12fd9b1a2f3a327\n",
            "replace Sign-Language-To-Text-Conversion1-main/dataSet/testingData/0/108.jpg? [y]es, [n]o, [A]ll, [N]one, [r]ename: "
          ]
        }
      ]
    },
    {
      "cell_type": "markdown",
      "metadata": {
        "id": "4tzI0ivH1h5e"
      },
      "source": [
        "### Creating the Training set"
      ]
    },
    {
      "cell_type": "code",
      "source": [
        "!mkdir trainingData"
      ],
      "metadata": {
        "colab": {
          "base_uri": "https://localhost:8080/"
        },
        "id": "MnNFCK_ywKt_",
        "outputId": "9b8d7029-8ef8-4d15-8b05-83dfd0ff9820"
      },
      "execution_count": 45,
      "outputs": [
        {
          "output_type": "stream",
          "name": "stdout",
          "text": [
            "mkdir: cannot create directory ‘trainingData’: File exists\n"
          ]
        }
      ]
    },
    {
      "cell_type": "code",
      "source": [
        "!mkdir testingData"
      ],
      "metadata": {
        "colab": {
          "base_uri": "https://localhost:8080/"
        },
        "id": "x_PMNcsdwwtn",
        "outputId": "2c16983f-9a8f-48f3-ca9d-43deb819fe87"
      },
      "execution_count": 46,
      "outputs": [
        {
          "output_type": "stream",
          "name": "stdout",
          "text": [
            "mkdir: cannot create directory ‘testingData’: File exists\n"
          ]
        }
      ]
    },
    {
      "cell_type": "code",
      "source": [
        "!cp -r '/content/Sign-Language-To-Text-Conversion1-main/dataSet/trainingData/D' 'trainingData'"
      ],
      "metadata": {
        "id": "xdAuR3EKwRVn"
      },
      "execution_count": 47,
      "outputs": []
    },
    {
      "cell_type": "code",
      "source": [
        "!cp -r '/content/Sign-Language-To-Text-Conversion1-main/dataSet/trainingData/R' 'trainingData'"
      ],
      "metadata": {
        "id": "NWNYoL5Iweun"
      },
      "execution_count": 48,
      "outputs": []
    },
    {
      "cell_type": "code",
      "source": [
        "!cp -r '/content/Sign-Language-To-Text-Conversion1-main/dataSet/trainingData/U' 'trainingData'"
      ],
      "metadata": {
        "id": "ZA-QPACmwmUv"
      },
      "execution_count": 49,
      "outputs": []
    },
    {
      "cell_type": "code",
      "source": [
        "!cp -r '/content/Sign-Language-To-Text-Conversion1-main/dataSet/testingData/D' 'testingData'"
      ],
      "metadata": {
        "id": "kg98Y7R6w5Tv"
      },
      "execution_count": 50,
      "outputs": []
    },
    {
      "cell_type": "code",
      "source": [
        "!cp -r '/content/Sign-Language-To-Text-Conversion1-main/dataSet/testingData/R' 'testingData'"
      ],
      "metadata": {
        "id": "wLfgacfXw5cm"
      },
      "execution_count": 51,
      "outputs": []
    },
    {
      "cell_type": "code",
      "source": [
        "!cp -r '/content/Sign-Language-To-Text-Conversion1-main/dataSet/testingData/U' 'testingData'"
      ],
      "metadata": {
        "id": "XyMjD6ERwz63"
      },
      "execution_count": 52,
      "outputs": []
    },
    {
      "cell_type": "code",
      "execution_count": 94,
      "metadata": {
        "colab": {
          "base_uri": "https://localhost:8080/"
        },
        "id": "f1Qo_mdo1h5e",
        "outputId": "1773f89a-41b1-400b-be57-6522e0df5f88"
      },
      "outputs": [
        {
          "output_type": "stream",
          "name": "stdout",
          "text": [
            "Found 1401 images belonging to 3 classes.\n"
          ]
        }
      ],
      "source": [
        "training_set = train_datagen.flow_from_directory('trainingData',                                \n",
        "                                                 target_size = (128, 128),\n",
        "                                                 batch_size = 10,\n",
        "                                                 color_mode = 'grayscale',                                \n",
        "                                                 class_mode = 'categorical')"
      ]
    },
    {
      "cell_type": "code",
      "execution_count": 95,
      "metadata": {
        "colab": {
          "base_uri": "https://localhost:8080/"
        },
        "id": "nmYk_kj-1h5e",
        "outputId": "a389aecc-ca63-4f17-8301-c61cccd0c6d5"
      },
      "outputs": [
        {
          "output_type": "stream",
          "name": "stdout",
          "text": [
            "Found 465 images belonging to 3 classes.\n"
          ]
        }
      ],
      "source": [
        "test_set = test_datagen.flow_from_directory('testingData',\n",
        "                                            target_size = (128, 128),                                  \n",
        "                                            batch_size = 10,        \n",
        "                                            color_mode = 'grayscale',\n",
        "                                            class_mode = 'categorical')"
      ]
    },
    {
      "cell_type": "markdown",
      "source": [
        "# Part 2: Building CNN\n"
      ],
      "metadata": {
        "id": "M8xQkJVr6XkS"
      }
    },
    {
      "cell_type": "markdown",
      "source": [
        "# Initializing CNN"
      ],
      "metadata": {
        "id": "Yo2zQqEo6geq"
      }
    },
    {
      "cell_type": "code",
      "source": [
        "classifier = tf.keras.models.Sequential()"
      ],
      "metadata": {
        "id": "_mnL50fq6RJi"
      },
      "execution_count": 96,
      "outputs": []
    },
    {
      "cell_type": "markdown",
      "source": [
        "#Step 1: Convolution"
      ],
      "metadata": {
        "id": "L-GdKGtv60Lj"
      }
    },
    {
      "cell_type": "code",
      "source": [
        "classifier.add(tf.keras.layers.Conv2D(filters=32,\n",
        "                                     kernel_size=3, \n",
        "                                     padding=\"same\", \n",
        "                                     activation=\"relu\", \n",
        "                                     input_shape=[128, 128, 1]))"
      ],
      "metadata": {
        "id": "607kx-Kk62OT"
      },
      "execution_count": 97,
      "outputs": []
    },
    {
      "cell_type": "markdown",
      "source": [
        "#Step 2:  Pooling"
      ],
      "metadata": {
        "id": "0LyJeca969Pr"
      }
    },
    {
      "cell_type": "code",
      "source": [
        "classifier.add(tf.keras.layers.MaxPool2D(pool_size=2, \n",
        "                                         strides=2, \n",
        "                                         padding='valid'))"
      ],
      "metadata": {
        "id": "uUi1NDAZ68jS"
      },
      "execution_count": 98,
      "outputs": []
    },
    {
      "cell_type": "markdown",
      "source": [
        "# Adding a second convolution layer"
      ],
      "metadata": {
        "id": "JH4SQSa_7HGy"
      }
    },
    {
      "cell_type": "markdown",
      "source": [],
      "metadata": {
        "id": "4ocZDlc57LhS"
      }
    },
    {
      "cell_type": "code",
      "source": [
        "classifier.add(tf.keras.layers.Conv2D(filters=32, \n",
        "                                      kernel_size=3, \n",
        "                                      padding=\"same\", \n",
        "                                      activation=\"relu\"))\n",
        "\n",
        "classifier.add(tf.keras.layers.MaxPool2D(pool_size=2, \n",
        "                                         strides=2, \n",
        "                                         padding='valid'))"
      ],
      "metadata": {
        "id": "gE6Y-rGI7MEC"
      },
      "execution_count": 99,
      "outputs": []
    },
    {
      "cell_type": "markdown",
      "source": [
        "# Step 3: Flattering"
      ],
      "metadata": {
        "id": "p71AruP-7TAz"
      }
    },
    {
      "cell_type": "code",
      "source": [
        "classifier.add(tf.keras.layers.Flatten())"
      ],
      "metadata": {
        "id": "yFZZMQq27XhD"
      },
      "execution_count": 100,
      "outputs": []
    },
    {
      "cell_type": "markdown",
      "source": [
        "# Step 4: Full Connection"
      ],
      "metadata": {
        "id": "qImWKIur7aj7"
      }
    },
    {
      "cell_type": "code",
      "source": [
        "classifier.add(tf.keras.layers.Dense(units=128, \n",
        "                                     activation='relu'))\n",
        "classifier.add(tf.keras.layers.Dropout(0.40))\n",
        "classifier.add(tf.keras.layers.Dense(units=96, activation='relu'))\n",
        "classifier.add(tf.keras.layers.Dropout(0.40))\n",
        "classifier.add(tf.keras.layers.Dense(units=64, activation='relu'))\n",
        "classifier.add(tf.keras.layers.Dense(units=32, activation='relu')) # softmax for more than 2\n",
        "classifier.add(tf.keras.layers.Dense(units=16, activation='relu')) # softmax for more than 2\n",
        "classifier.add(tf.keras.layers.Dense(units=3, activation='softmax')) # softmax for more than 2"
      ],
      "metadata": {
        "id": "WEQAyi6R7e5r"
      },
      "execution_count": 107,
      "outputs": []
    },
    {
      "cell_type": "markdown",
      "source": [],
      "metadata": {
        "id": "blTX-KhS6zLx"
      }
    },
    {
      "cell_type": "markdown",
      "metadata": {
        "id": "hpMe6KI41h5h"
      },
      "source": [
        "### Part 3 - Training the CNN"
      ]
    },
    {
      "cell_type": "markdown",
      "metadata": {
        "id": "-vVwX9Uc1h5h"
      },
      "source": [
        "#### Compiling the CNN"
      ]
    },
    {
      "cell_type": "code",
      "execution_count": 108,
      "metadata": {
        "id": "Rjv_4Ki41h5h"
      },
      "outputs": [],
      "source": [
        "classifier.compile(optimizer = 'adam', \n",
        "                   loss = 'categorical_crossentropy', \n",
        "                   metrics = ['accuracy'])"
      ]
    },
    {
      "cell_type": "markdown",
      "metadata": {
        "id": "DQr00ZUv1h5h"
      },
      "source": [
        "#### Training the CNN on the Training set and evaluating it on the Test set"
      ]
    },
    {
      "cell_type": "code",
      "execution_count": 109,
      "metadata": {
        "colab": {
          "base_uri": "https://localhost:8080/"
        },
        "id": "o2zK95Is1h5h",
        "outputId": "462540df-dc64-499b-f35c-52c8542167e4"
      },
      "outputs": [
        {
          "output_type": "stream",
          "name": "stdout",
          "text": [
            "Model: \"sequential_4\"\n",
            "_________________________________________________________________\n",
            " Layer (type)                Output Shape              Param #   \n",
            "=================================================================\n",
            " conv2d_8 (Conv2D)           (None, 128, 128, 32)      320       \n",
            "                                                                 \n",
            " max_pooling2d_8 (MaxPooling  (None, 64, 64, 32)       0         \n",
            " 2D)                                                             \n",
            "                                                                 \n",
            " conv2d_9 (Conv2D)           (None, 64, 64, 32)        9248      \n",
            "                                                                 \n",
            " max_pooling2d_9 (MaxPooling  (None, 32, 32, 32)       0         \n",
            " 2D)                                                             \n",
            "                                                                 \n",
            " flatten_4 (Flatten)         (None, 32768)             0         \n",
            "                                                                 \n",
            " dense_16 (Dense)            (None, 128)               4194432   \n",
            "                                                                 \n",
            " dropout_8 (Dropout)         (None, 128)               0         \n",
            "                                                                 \n",
            " dense_17 (Dense)            (None, 96)                12384     \n",
            "                                                                 \n",
            " dropout_9 (Dropout)         (None, 96)                0         \n",
            "                                                                 \n",
            " dense_18 (Dense)            (None, 64)                6208      \n",
            "                                                                 \n",
            " dense_19 (Dense)            (None, 27)                1755      \n",
            "                                                                 \n",
            " dense_20 (Dense)            (None, 3)                 84        \n",
            "                                                                 \n",
            " dense_21 (Dense)            (None, 128)               512       \n",
            "                                                                 \n",
            " dropout_10 (Dropout)        (None, 128)               0         \n",
            "                                                                 \n",
            " dense_22 (Dense)            (None, 96)                12384     \n",
            "                                                                 \n",
            " dropout_11 (Dropout)        (None, 96)                0         \n",
            "                                                                 \n",
            " dense_23 (Dense)            (None, 64)                6208      \n",
            "                                                                 \n",
            " dense_24 (Dense)            (None, 32)                2080      \n",
            "                                                                 \n",
            " dense_25 (Dense)            (None, 16)                528       \n",
            "                                                                 \n",
            " dense_26 (Dense)            (None, 3)                 51        \n",
            "                                                                 \n",
            "=================================================================\n",
            "Total params: 4,246,194\n",
            "Trainable params: 4,246,194\n",
            "Non-trainable params: 0\n",
            "_________________________________________________________________\n"
          ]
        }
      ],
      "source": [
        "classifier.summary()"
      ]
    },
    {
      "cell_type": "code",
      "source": [
        "classifier"
      ],
      "metadata": {
        "colab": {
          "base_uri": "https://localhost:8080/"
        },
        "id": "rpnkd2d0z0-p",
        "outputId": "669d575f-df5c-4bea-e015-a8d69efd5f29"
      },
      "execution_count": 110,
      "outputs": [
        {
          "output_type": "execute_result",
          "data": {
            "text/plain": [
              "<keras.engine.sequential.Sequential at 0x7f84fa1ac310>"
            ]
          },
          "metadata": {},
          "execution_count": 110
        }
      ]
    },
    {
      "cell_type": "code",
      "execution_count": 112,
      "metadata": {
        "colab": {
          "base_uri": "https://localhost:8080/"
        },
        "id": "pcC8o0p71h5h",
        "outputId": "95489b45-1bfd-4d48-cb0c-fc6aa78618b7"
      },
      "outputs": [
        {
          "output_type": "stream",
          "name": "stdout",
          "text": [
            "Epoch 1/30\n",
            "141/141 [==============================] - 38s 269ms/step - loss: 0.0876 - accuracy: 0.9872 - val_loss: 0.0636 - val_accuracy: 0.9892\n",
            "Epoch 2/30\n",
            "141/141 [==============================] - 43s 307ms/step - loss: 0.1445 - accuracy: 0.9729 - val_loss: 0.1075 - val_accuracy: 0.9849\n",
            "Epoch 3/30\n",
            "141/141 [==============================] - 40s 280ms/step - loss: 0.1648 - accuracy: 0.9700 - val_loss: 0.0471 - val_accuracy: 0.9935\n",
            "Epoch 4/30\n",
            "141/141 [==============================] - 35s 250ms/step - loss: 0.1380 - accuracy: 0.9743 - val_loss: 0.0833 - val_accuracy: 0.9935\n",
            "Epoch 5/30\n",
            "141/141 [==============================] - 36s 256ms/step - loss: 0.1059 - accuracy: 0.9807 - val_loss: 0.0242 - val_accuracy: 0.9957\n",
            "Epoch 6/30\n",
            "141/141 [==============================] - 38s 271ms/step - loss: 0.0792 - accuracy: 0.9850 - val_loss: 0.0481 - val_accuracy: 0.9935\n",
            "Epoch 7/30\n",
            "141/141 [==============================] - 39s 277ms/step - loss: 0.1116 - accuracy: 0.9793 - val_loss: 0.0297 - val_accuracy: 0.9957\n",
            "Epoch 8/30\n",
            "141/141 [==============================] - 37s 265ms/step - loss: 0.0426 - accuracy: 0.9914 - val_loss: 0.0126 - val_accuracy: 0.9978\n",
            "Epoch 9/30\n",
            "141/141 [==============================] - 39s 276ms/step - loss: 0.0676 - accuracy: 0.9886 - val_loss: 0.0065 - val_accuracy: 1.0000\n",
            "Epoch 10/30\n",
            "141/141 [==============================] - 41s 290ms/step - loss: 0.0467 - accuracy: 0.9914 - val_loss: 0.0052 - val_accuracy: 0.9978\n",
            "Epoch 11/30\n",
            "141/141 [==============================] - 36s 255ms/step - loss: 0.0375 - accuracy: 0.9921 - val_loss: 0.0170 - val_accuracy: 0.9978\n",
            "Epoch 12/30\n",
            "141/141 [==============================] - 37s 260ms/step - loss: 0.0249 - accuracy: 0.9964 - val_loss: 0.0321 - val_accuracy: 0.9957\n",
            "Epoch 13/30\n",
            "141/141 [==============================] - 38s 269ms/step - loss: 0.0155 - accuracy: 0.9943 - val_loss: 0.0199 - val_accuracy: 0.9957\n",
            "Epoch 14/30\n",
            "141/141 [==============================] - 40s 282ms/step - loss: 0.0372 - accuracy: 0.9936 - val_loss: 0.0098 - val_accuracy: 0.9957\n",
            "Epoch 15/30\n",
            "141/141 [==============================] - 38s 269ms/step - loss: 0.0188 - accuracy: 0.9929 - val_loss: 0.0040 - val_accuracy: 0.9978\n",
            "Epoch 16/30\n",
            "141/141 [==============================] - 38s 272ms/step - loss: 0.0399 - accuracy: 0.9929 - val_loss: 0.0034 - val_accuracy: 0.9978\n",
            "Epoch 17/30\n",
            "141/141 [==============================] - 38s 268ms/step - loss: 0.0434 - accuracy: 0.9921 - val_loss: 0.0019 - val_accuracy: 1.0000\n",
            "Epoch 18/30\n",
            "141/141 [==============================] - 40s 285ms/step - loss: 0.0165 - accuracy: 0.9979 - val_loss: 0.0041 - val_accuracy: 0.9978\n",
            "Epoch 19/30\n",
            "141/141 [==============================] - 39s 280ms/step - loss: 0.0466 - accuracy: 0.9886 - val_loss: 0.0057 - val_accuracy: 0.9978\n",
            "Epoch 20/30\n",
            "141/141 [==============================] - 37s 259ms/step - loss: 0.0313 - accuracy: 0.9936 - val_loss: 0.0033 - val_accuracy: 1.0000\n",
            "Epoch 21/30\n",
            "141/141 [==============================] - 37s 259ms/step - loss: 0.0178 - accuracy: 0.9957 - val_loss: 2.0467e-04 - val_accuracy: 1.0000\n",
            "Epoch 22/30\n",
            "141/141 [==============================] - 37s 261ms/step - loss: 0.0241 - accuracy: 0.9964 - val_loss: 6.2692e-04 - val_accuracy: 1.0000\n",
            "Epoch 23/30\n",
            "141/141 [==============================] - 39s 278ms/step - loss: 0.0543 - accuracy: 0.9872 - val_loss: 0.0124 - val_accuracy: 0.9978\n",
            "Epoch 24/30\n",
            "141/141 [==============================] - 39s 278ms/step - loss: 0.0359 - accuracy: 0.9929 - val_loss: 0.0011 - val_accuracy: 1.0000\n",
            "Epoch 25/30\n",
            "141/141 [==============================] - 37s 262ms/step - loss: 0.0190 - accuracy: 0.9943 - val_loss: 7.7004e-04 - val_accuracy: 1.0000\n",
            "Epoch 26/30\n",
            "141/141 [==============================] - 36s 257ms/step - loss: 0.0154 - accuracy: 0.9957 - val_loss: 1.4711e-04 - val_accuracy: 1.0000\n",
            "Epoch 27/30\n",
            "141/141 [==============================] - 40s 285ms/step - loss: 0.0175 - accuracy: 0.9936 - val_loss: 2.1735e-04 - val_accuracy: 1.0000\n",
            "Epoch 28/30\n",
            "141/141 [==============================] - 37s 259ms/step - loss: 0.0195 - accuracy: 0.9950 - val_loss: 2.7128e-04 - val_accuracy: 1.0000\n",
            "Epoch 29/30\n",
            "141/141 [==============================] - 39s 278ms/step - loss: 0.0089 - accuracy: 0.9993 - val_loss: 1.4213e-04 - val_accuracy: 1.0000\n",
            "Epoch 30/30\n",
            "141/141 [==============================] - 36s 255ms/step - loss: 0.0232 - accuracy: 0.9943 - val_loss: 0.0063 - val_accuracy: 0.9978\n"
          ]
        },
        {
          "output_type": "execute_result",
          "data": {
            "text/plain": [
              "<keras.callbacks.History at 0x7f84fdad4b50>"
            ]
          },
          "metadata": {},
          "execution_count": 112
        }
      ],
      "source": [
        "classifier.fit(training_set,\n",
        "                  epochs = 30,\n",
        "                  validation_data = test_set)"
      ]
    },
    {
      "cell_type": "markdown",
      "metadata": {
        "id": "6TM4ZYOU1h5i"
      },
      "source": [
        "#### Saving the Model"
      ]
    },
    {
      "cell_type": "code",
      "execution_count": 113,
      "metadata": {
        "id": "MkVz44Uc1h5i",
        "colab": {
          "base_uri": "https://localhost:8080/"
        },
        "outputId": "15d72a81-a428-4ed1-e05b-92e1b7461260"
      },
      "outputs": [
        {
          "output_type": "stream",
          "name": "stdout",
          "text": [
            "Model Saved\n",
            "Weights saved\n"
          ]
        }
      ],
      "source": [
        "model_json = classifier.to_json()\n",
        "with open(\"model_bw-dru.json\", \"w\") as json_file:\n",
        "    json_file.write(model_json)\n",
        "print('Model Saved')\n",
        "classifier.save_weights('model_bw-dru.h5')\n",
        "print('Weights saved')"
      ]
    },
    {
      "cell_type": "code",
      "execution_count": null,
      "metadata": {
        "id": "P7c-lEdS1h5i"
      },
      "outputs": [],
      "source": [
        "classifier.fit(training_set,\n",
        "                  epochs = 20,\n",
        "                  validation_data = test_set)"
      ]
    },
    {
      "cell_type": "code",
      "source": [
        "model2_json = classifier.to_json()\n",
        "with open(\"model2_new.json\", \"w\") as json_file:\n",
        "    json_file.write(model2_json)\n",
        "print('Model Saved')\n",
        "classifier.save_weights('model2_new.h5')\n",
        "print('Weights saved')"
      ],
      "metadata": {
        "id": "nLCObfC-Fn6x"
      },
      "execution_count": null,
      "outputs": []
    },
    {
      "cell_type": "code",
      "source": [
        "!cp '/content/model2_new.h5' '/content/drive/MyDrive'"
      ],
      "metadata": {
        "id": "e5dQrQ8OmGYc"
      },
      "execution_count": null,
      "outputs": []
    }
  ],
  "metadata": {
    "kernelspec": {
      "display_name": "Python 3",
      "language": "python",
      "name": "python3"
    },
    "language_info": {
      "codemirror_mode": {
        "name": "ipython",
        "version": 3
      },
      "file_extension": ".py",
      "mimetype": "text/x-python",
      "name": "python",
      "nbconvert_exporter": "python",
      "pygments_lexer": "ipython3",
      "version": "3.8.6rc1"
    },
    "colab": {
      "provenance": []
    }
  },
  "nbformat": 4,
  "nbformat_minor": 0
}