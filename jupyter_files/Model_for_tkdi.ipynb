{
  "cells": [
    {
      "cell_type": "markdown",
      "metadata": {
        "id": "23YphP5l1h5Z"
      },
      "source": [
        "### Importing the Libraries"
      ]
    },
    {
      "cell_type": "code",
      "execution_count": 29,
      "metadata": {
        "id": "04Siixg01h5b"
      },
      "outputs": [],
      "source": [
        "import tensorflow as tf\n",
        "from keras.preprocessing.image import ImageDataGenerator\n",
        "import os\n",
        "os.environ[\"CUDA_VISIBLE_DEVICES\"] = \"1\""
      ]
    },
    {
      "cell_type": "code",
      "execution_count": 30,
      "metadata": {
        "colab": {
          "base_uri": "https://localhost:8080/",
          "height": 35
        },
        "id": "9oo6plRz1h5c",
        "outputId": "609330b5-1ff3-4777-f452-e5baf0763469"
      },
      "outputs": [
        {
          "output_type": "execute_result",
          "data": {
            "text/plain": [
              "'2.12.0'"
            ],
            "application/vnd.google.colaboratory.intrinsic+json": {
              "type": "string"
            }
          },
          "metadata": {},
          "execution_count": 30
        }
      ],
      "source": [
        "tf.__version__ "
      ]
    },
    {
      "cell_type": "markdown",
      "metadata": {
        "id": "an7Dk1kR1h5d"
      },
      "source": [
        "### Part 1 - Data Preprocessing"
      ]
    },
    {
      "cell_type": "markdown",
      "metadata": {
        "id": "sS53W8KA1h5d"
      },
      "source": [
        "#### Generating images for the Training set"
      ]
    },
    {
      "cell_type": "code",
      "execution_count": 31,
      "metadata": {
        "id": "vdTKBkRC1h5e"
      },
      "outputs": [],
      "source": [
        "train_datagen = ImageDataGenerator(rescale = 1./255,\n",
        "                                   shear_range = 0.2,\n",
        "                                   zoom_range = 0.2,\n",
        "                                   horizontal_flip = True)"
      ]
    },
    {
      "cell_type": "markdown",
      "metadata": {
        "id": "gu66NZJV1h5e"
      },
      "source": [
        "#### Generating images for the Test set"
      ]
    },
    {
      "cell_type": "code",
      "execution_count": 32,
      "metadata": {
        "id": "kwmX5k5Y1h5e"
      },
      "outputs": [],
      "source": [
        "test_datagen = ImageDataGenerator(rescale = 1./255)"
      ]
    },
    {
      "cell_type": "code",
      "source": [
        "!wget https://github.com/AvijitChowdhury/Sign-Language-To-Text-Conversion1/archive/refs/heads/main.zip\n",
        "\n"
      ],
      "metadata": {
        "id": "LVdw83N6ABOX",
        "colab": {
          "base_uri": "https://localhost:8080/"
        },
        "outputId": "eca32cd4-53fb-4a9e-8255-674df936a08a"
      },
      "execution_count": 33,
      "outputs": [
        {
          "output_type": "stream",
          "name": "stdout",
          "text": [
            "--2023-04-01 17:40:17--  https://github.com/AvijitChowdhury/Sign-Language-To-Text-Conversion1/archive/refs/heads/main.zip\n",
            "Resolving github.com (github.com)... 140.82.114.3\n",
            "Connecting to github.com (github.com)|140.82.114.3|:443... connected.\n",
            "HTTP request sent, awaiting response... 302 Found\n",
            "Location: https://codeload.github.com/AvijitChowdhury/Sign-Language-To-Text-Conversion1/zip/refs/heads/main [following]\n",
            "--2023-04-01 17:40:18--  https://codeload.github.com/AvijitChowdhury/Sign-Language-To-Text-Conversion1/zip/refs/heads/main\n",
            "Resolving codeload.github.com (codeload.github.com)... 140.82.114.10\n",
            "Connecting to codeload.github.com (codeload.github.com)|140.82.114.10|:443... connected.\n",
            "HTTP request sent, awaiting response... 200 OK\n",
            "Length: unspecified [application/zip]\n",
            "Saving to: ‘main.zip.1’\n",
            "\n",
            "main.zip.1              [              <=>   ] 421.79M  26.3MB/s    in 16s     \n",
            "\n",
            "2023-04-01 17:40:34 (25.7 MB/s) - ‘main.zip.1’ saved [442279055]\n",
            "\n"
          ]
        }
      ]
    },
    {
      "cell_type": "code",
      "source": [
        "\n",
        "!unzip main.zip"
      ],
      "metadata": {
        "id": "5f9uFuWMAZeO",
        "colab": {
          "base_uri": "https://localhost:8080/"
        },
        "outputId": "f49a0e92-450f-4cc6-bfda-bdf99a90c7c8"
      },
      "execution_count": 34,
      "outputs": [
        {
          "output_type": "stream",
          "name": "stdout",
          "text": [
            "Archive:  main.zip\n",
            "5d90dd4f608245cabf41f540a12fd9b1a2f3a327\n",
            "replace Sign-Language-To-Text-Conversion1-main/dataSet/testingData/0/108.jpg? [y]es, [n]o, [A]ll, [N]one, [r]ename: "
          ]
        }
      ]
    },
    {
      "cell_type": "markdown",
      "metadata": {
        "id": "4tzI0ivH1h5e"
      },
      "source": [
        "### Creating the Training set"
      ]
    },
    {
      "cell_type": "code",
      "source": [
        "!mkdir trainingData"
      ],
      "metadata": {
        "colab": {
          "base_uri": "https://localhost:8080/"
        },
        "id": "MnNFCK_ywKt_",
        "outputId": "89e858c2-0803-463b-f9a2-a0484987803b"
      },
      "execution_count": 35,
      "outputs": [
        {
          "output_type": "stream",
          "name": "stdout",
          "text": [
            "mkdir: cannot create directory ‘trainingData’: File exists\n"
          ]
        }
      ]
    },
    {
      "cell_type": "code",
      "source": [
        "!mkdir testingData"
      ],
      "metadata": {
        "colab": {
          "base_uri": "https://localhost:8080/"
        },
        "id": "x_PMNcsdwwtn",
        "outputId": "971a115c-5931-492a-df1d-e0312b789d91"
      },
      "execution_count": 36,
      "outputs": [
        {
          "output_type": "stream",
          "name": "stdout",
          "text": [
            "mkdir: cannot create directory ‘testingData’: File exists\n"
          ]
        }
      ]
    },
    {
      "cell_type": "code",
      "source": [
        "!cp -r '/content/Sign-Language-To-Text-Conversion1-main/dataSet/trainingData/T' 'trainingData'"
      ],
      "metadata": {
        "id": "xdAuR3EKwRVn"
      },
      "execution_count": 37,
      "outputs": []
    },
    {
      "cell_type": "code",
      "source": [
        "!cp -r '/content/Sign-Language-To-Text-Conversion1-main/dataSet/trainingData/K' 'trainingData'"
      ],
      "metadata": {
        "id": "NWNYoL5Iweun"
      },
      "execution_count": 38,
      "outputs": []
    },
    {
      "cell_type": "code",
      "source": [
        "!cp -r '/content/Sign-Language-To-Text-Conversion1-main/dataSet/trainingData/D' 'trainingData'"
      ],
      "metadata": {
        "id": "ZA-QPACmwmUv"
      },
      "execution_count": 39,
      "outputs": []
    },
    {
      "cell_type": "code",
      "source": [
        "!cp -r '/content/Sign-Language-To-Text-Conversion1-main/dataSet/trainingData/I' 'trainingData'"
      ],
      "metadata": {
        "id": "jvVt8D8P5DAP"
      },
      "execution_count": 40,
      "outputs": []
    },
    {
      "cell_type": "code",
      "source": [
        "!cp -r '/content/Sign-Language-To-Text-Conversion1-main/dataSet/testingData/T' 'testingData'"
      ],
      "metadata": {
        "id": "kg98Y7R6w5Tv"
      },
      "execution_count": 41,
      "outputs": []
    },
    {
      "cell_type": "code",
      "source": [
        "!cp -r '/content/Sign-Language-To-Text-Conversion1-main/dataSet/testingData/K' 'testingData'"
      ],
      "metadata": {
        "id": "wLfgacfXw5cm"
      },
      "execution_count": 42,
      "outputs": []
    },
    {
      "cell_type": "code",
      "source": [
        "!cp -r '/content/Sign-Language-To-Text-Conversion1-main/dataSet/testingData/D' 'testingData'"
      ],
      "metadata": {
        "id": "XyMjD6ERwz63"
      },
      "execution_count": 43,
      "outputs": []
    },
    {
      "cell_type": "code",
      "source": [
        "!cp -r '/content/Sign-Language-To-Text-Conversion1-main/dataSet/testingData/I' 'testingData'"
      ],
      "metadata": {
        "id": "dyuqmyva5Jp3"
      },
      "execution_count": 44,
      "outputs": []
    },
    {
      "cell_type": "code",
      "execution_count": 45,
      "metadata": {
        "colab": {
          "base_uri": "https://localhost:8080/"
        },
        "id": "f1Qo_mdo1h5e",
        "outputId": "11ac5a8a-d253-4d8c-be1a-3422c7c1e857"
      },
      "outputs": [
        {
          "output_type": "stream",
          "name": "stdout",
          "text": [
            "Found 1896 images belonging to 4 classes.\n"
          ]
        }
      ],
      "source": [
        "training_set = train_datagen.flow_from_directory('trainingData',                                \n",
        "                                                 target_size = (128, 128),\n",
        "                                                 batch_size = 10,\n",
        "                                                 color_mode = 'grayscale',                                \n",
        "                                                 class_mode = 'categorical')"
      ]
    },
    {
      "cell_type": "code",
      "execution_count": 46,
      "metadata": {
        "colab": {
          "base_uri": "https://localhost:8080/"
        },
        "id": "nmYk_kj-1h5e",
        "outputId": "7d3527a5-52d9-4e93-f8d4-20f5038ce55a"
      },
      "outputs": [
        {
          "output_type": "stream",
          "name": "stdout",
          "text": [
            "Found 631 images belonging to 4 classes.\n"
          ]
        }
      ],
      "source": [
        "test_set = test_datagen.flow_from_directory('testingData',\n",
        "                                            target_size = (128, 128),                                  \n",
        "                                            batch_size = 10,        \n",
        "                                            color_mode = 'grayscale',\n",
        "                                            class_mode = 'categorical')"
      ]
    },
    {
      "cell_type": "markdown",
      "source": [
        "# Part 2: Building CNN\n"
      ],
      "metadata": {
        "id": "M8xQkJVr6XkS"
      }
    },
    {
      "cell_type": "markdown",
      "source": [
        "# Initializing CNN"
      ],
      "metadata": {
        "id": "Yo2zQqEo6geq"
      }
    },
    {
      "cell_type": "code",
      "source": [
        "classifier = tf.keras.models.Sequential()"
      ],
      "metadata": {
        "id": "_mnL50fq6RJi"
      },
      "execution_count": 47,
      "outputs": []
    },
    {
      "cell_type": "markdown",
      "source": [
        "#Step 1: Convolution"
      ],
      "metadata": {
        "id": "L-GdKGtv60Lj"
      }
    },
    {
      "cell_type": "code",
      "source": [
        "classifier.add(tf.keras.layers.Conv2D(filters=32,\n",
        "                                     kernel_size=3, \n",
        "                                     padding=\"same\", \n",
        "                                     activation=\"relu\", \n",
        "                                     input_shape=[128, 128, 1]))"
      ],
      "metadata": {
        "id": "607kx-Kk62OT"
      },
      "execution_count": 48,
      "outputs": []
    },
    {
      "cell_type": "markdown",
      "source": [
        "#Step 2:  Pooling"
      ],
      "metadata": {
        "id": "0LyJeca969Pr"
      }
    },
    {
      "cell_type": "code",
      "source": [
        "classifier.add(tf.keras.layers.MaxPool2D(pool_size=2, \n",
        "                                         strides=2, \n",
        "                                         padding='valid'))"
      ],
      "metadata": {
        "id": "uUi1NDAZ68jS"
      },
      "execution_count": 49,
      "outputs": []
    },
    {
      "cell_type": "markdown",
      "source": [
        "# Adding a second convolution layer"
      ],
      "metadata": {
        "id": "JH4SQSa_7HGy"
      }
    },
    {
      "cell_type": "markdown",
      "source": [],
      "metadata": {
        "id": "4ocZDlc57LhS"
      }
    },
    {
      "cell_type": "code",
      "source": [
        "classifier.add(tf.keras.layers.Conv2D(filters=32, \n",
        "                                      kernel_size=3, \n",
        "                                      padding=\"same\", \n",
        "                                      activation=\"relu\"))\n",
        "\n",
        "classifier.add(tf.keras.layers.MaxPool2D(pool_size=2, \n",
        "                                         strides=2, \n",
        "                                         padding='valid'))"
      ],
      "metadata": {
        "id": "gE6Y-rGI7MEC"
      },
      "execution_count": 50,
      "outputs": []
    },
    {
      "cell_type": "markdown",
      "source": [
        "# Step 3: Flattering"
      ],
      "metadata": {
        "id": "p71AruP-7TAz"
      }
    },
    {
      "cell_type": "code",
      "source": [
        "classifier.add(tf.keras.layers.Flatten())"
      ],
      "metadata": {
        "id": "yFZZMQq27XhD"
      },
      "execution_count": 51,
      "outputs": []
    },
    {
      "cell_type": "markdown",
      "source": [
        "# Step 4: Full Connection"
      ],
      "metadata": {
        "id": "qImWKIur7aj7"
      }
    },
    {
      "cell_type": "code",
      "source": [
        "classifier.add(tf.keras.layers.Dense(units=128, \n",
        "                                     activation='relu'))\n",
        "classifier.add(tf.keras.layers.Dropout(0.40))\n",
        "classifier.add(tf.keras.layers.Dense(units=96, activation='relu'))\n",
        "classifier.add(tf.keras.layers.Dropout(0.40))\n",
        "classifier.add(tf.keras.layers.Dense(units=64, activation='relu'))\n",
        "classifier.add(tf.keras.layers.Dense(units=32, activation='relu')) # softmax for more than 2\n",
        "classifier.add(tf.keras.layers.Dense(units=16, activation='relu')) # softmax for more than 2\n",
        "classifier.add(tf.keras.layers.Dense(units=4, activation='softmax')) # softmax for more than 2"
      ],
      "metadata": {
        "id": "WEQAyi6R7e5r"
      },
      "execution_count": 59,
      "outputs": []
    },
    {
      "cell_type": "markdown",
      "source": [],
      "metadata": {
        "id": "blTX-KhS6zLx"
      }
    },
    {
      "cell_type": "markdown",
      "metadata": {
        "id": "hpMe6KI41h5h"
      },
      "source": [
        "### Part 3 - Training the CNN"
      ]
    },
    {
      "cell_type": "markdown",
      "metadata": {
        "id": "-vVwX9Uc1h5h"
      },
      "source": [
        "#### Compiling the CNN"
      ]
    },
    {
      "cell_type": "code",
      "execution_count": 60,
      "metadata": {
        "id": "Rjv_4Ki41h5h"
      },
      "outputs": [],
      "source": [
        "classifier.compile(optimizer = 'adam', \n",
        "                   loss = 'categorical_crossentropy', \n",
        "                   metrics = ['accuracy'])"
      ]
    },
    {
      "cell_type": "markdown",
      "metadata": {
        "id": "DQr00ZUv1h5h"
      },
      "source": [
        "#### Training the CNN on the Training set and evaluating it on the Test set"
      ]
    },
    {
      "cell_type": "code",
      "execution_count": 61,
      "metadata": {
        "colab": {
          "base_uri": "https://localhost:8080/"
        },
        "id": "o2zK95Is1h5h",
        "outputId": "326cab18-faf3-4846-e62f-54421f0f2ed0"
      },
      "outputs": [
        {
          "output_type": "stream",
          "name": "stdout",
          "text": [
            "Model: \"sequential_1\"\n",
            "_________________________________________________________________\n",
            " Layer (type)                Output Shape              Param #   \n",
            "=================================================================\n",
            " conv2d_2 (Conv2D)           (None, 128, 128, 32)      320       \n",
            "                                                                 \n",
            " max_pooling2d_2 (MaxPooling  (None, 64, 64, 32)       0         \n",
            " 2D)                                                             \n",
            "                                                                 \n",
            " conv2d_3 (Conv2D)           (None, 64, 64, 32)        9248      \n",
            "                                                                 \n",
            " max_pooling2d_3 (MaxPooling  (None, 32, 32, 32)       0         \n",
            " 2D)                                                             \n",
            "                                                                 \n",
            " flatten_1 (Flatten)         (None, 32768)             0         \n",
            "                                                                 \n",
            " dense_5 (Dense)             (None, 128)               4194432   \n",
            "                                                                 \n",
            " dropout_2 (Dropout)         (None, 128)               0         \n",
            "                                                                 \n",
            " dense_6 (Dense)             (None, 96)                12384     \n",
            "                                                                 \n",
            " dropout_3 (Dropout)         (None, 96)                0         \n",
            "                                                                 \n",
            " dense_7 (Dense)             (None, 64)                6208      \n",
            "                                                                 \n",
            " dense_8 (Dense)             (None, 27)                1755      \n",
            "                                                                 \n",
            " dense_9 (Dense)             (None, 4)                 112       \n",
            "                                                                 \n",
            " dense_10 (Dense)            (None, 128)               640       \n",
            "                                                                 \n",
            " dropout_4 (Dropout)         (None, 128)               0         \n",
            "                                                                 \n",
            " dense_11 (Dense)            (None, 96)                12384     \n",
            "                                                                 \n",
            " dropout_5 (Dropout)         (None, 96)                0         \n",
            "                                                                 \n",
            " dense_12 (Dense)            (None, 64)                6208      \n",
            "                                                                 \n",
            " dense_13 (Dense)            (None, 32)                2080      \n",
            "                                                                 \n",
            " dense_14 (Dense)            (None, 16)                528       \n",
            "                                                                 \n",
            " dense_15 (Dense)            (None, 4)                 68        \n",
            "                                                                 \n",
            "=================================================================\n",
            "Total params: 4,246,367\n",
            "Trainable params: 4,246,367\n",
            "Non-trainable params: 0\n",
            "_________________________________________________________________\n"
          ]
        }
      ],
      "source": [
        "classifier.summary()"
      ]
    },
    {
      "cell_type": "code",
      "source": [
        "classifier"
      ],
      "metadata": {
        "colab": {
          "base_uri": "https://localhost:8080/"
        },
        "id": "rpnkd2d0z0-p",
        "outputId": "bc8c8852-66e4-426d-8609-ba15f229f398"
      },
      "execution_count": 62,
      "outputs": [
        {
          "output_type": "execute_result",
          "data": {
            "text/plain": [
              "<keras.engine.sequential.Sequential at 0x7f7c60287fa0>"
            ]
          },
          "metadata": {},
          "execution_count": 62
        }
      ]
    },
    {
      "cell_type": "code",
      "execution_count": 63,
      "metadata": {
        "colab": {
          "base_uri": "https://localhost:8080/"
        },
        "id": "pcC8o0p71h5h",
        "outputId": "247beedc-d898-4146-bbbd-0745a2f38b79"
      },
      "outputs": [
        {
          "output_type": "stream",
          "name": "stdout",
          "text": [
            "Epoch 1/20\n",
            "190/190 [==============================] - 59s 297ms/step - loss: 0.6287 - accuracy: 0.6719 - val_loss: 0.3533 - val_accuracy: 0.7544\n",
            "Epoch 2/20\n",
            "190/190 [==============================] - 52s 272ms/step - loss: 0.4726 - accuracy: 0.7352 - val_loss: 0.3720 - val_accuracy: 0.7401\n",
            "Epoch 3/20\n",
            "190/190 [==============================] - 54s 286ms/step - loss: 0.4278 - accuracy: 0.7474 - val_loss: 0.3567 - val_accuracy: 0.7544\n",
            "Epoch 4/20\n",
            "190/190 [==============================] - 52s 272ms/step - loss: 0.3936 - accuracy: 0.7220 - val_loss: 0.3538 - val_accuracy: 0.7544\n",
            "Epoch 5/20\n",
            "190/190 [==============================] - 53s 279ms/step - loss: 0.3715 - accuracy: 0.7569 - val_loss: 0.3530 - val_accuracy: 0.7544\n",
            "Epoch 6/20\n",
            "190/190 [==============================] - 51s 267ms/step - loss: 0.3791 - accuracy: 0.7468 - val_loss: 0.3681 - val_accuracy: 0.7496\n",
            "Epoch 7/20\n",
            "190/190 [==============================] - 52s 272ms/step - loss: 0.4192 - accuracy: 0.7521 - val_loss: 0.3557 - val_accuracy: 0.7401\n",
            "Epoch 8/20\n",
            "190/190 [==============================] - 51s 271ms/step - loss: 0.3776 - accuracy: 0.7484 - val_loss: 0.3555 - val_accuracy: 0.7544\n",
            "Epoch 9/20\n",
            "190/190 [==============================] - 53s 279ms/step - loss: 0.3851 - accuracy: 0.7373 - val_loss: 0.3533 - val_accuracy: 0.7544\n",
            "Epoch 10/20\n",
            "190/190 [==============================] - 53s 277ms/step - loss: 0.3796 - accuracy: 0.7421 - val_loss: 0.3544 - val_accuracy: 0.7544\n",
            "Epoch 11/20\n",
            "190/190 [==============================] - 51s 271ms/step - loss: 0.3659 - accuracy: 0.7474 - val_loss: 0.3579 - val_accuracy: 0.7401\n",
            "Epoch 12/20\n",
            "190/190 [==============================] - 52s 272ms/step - loss: 0.3612 - accuracy: 0.7447 - val_loss: 0.3514 - val_accuracy: 0.7544\n",
            "Epoch 13/20\n",
            "190/190 [==============================] - 53s 278ms/step - loss: 0.3698 - accuracy: 0.7331 - val_loss: 0.3510 - val_accuracy: 0.7544\n",
            "Epoch 14/20\n",
            "190/190 [==============================] - 52s 275ms/step - loss: 0.3891 - accuracy: 0.7474 - val_loss: 0.3523 - val_accuracy: 0.7544\n",
            "Epoch 15/20\n",
            "190/190 [==============================] - 52s 275ms/step - loss: 0.3664 - accuracy: 0.7547 - val_loss: 0.3600 - val_accuracy: 0.7528\n",
            "Epoch 16/20\n",
            "190/190 [==============================] - 52s 271ms/step - loss: 0.3944 - accuracy: 0.7426 - val_loss: 0.3552 - val_accuracy: 0.7544\n",
            "Epoch 17/20\n",
            "190/190 [==============================] - 52s 274ms/step - loss: 0.3669 - accuracy: 0.7511 - val_loss: 0.3517 - val_accuracy: 0.7544\n",
            "Epoch 18/20\n",
            "190/190 [==============================] - 53s 281ms/step - loss: 0.4014 - accuracy: 0.7463 - val_loss: 0.3553 - val_accuracy: 0.7401\n",
            "Epoch 19/20\n",
            "190/190 [==============================] - 51s 271ms/step - loss: 0.3756 - accuracy: 0.7479 - val_loss: 0.3511 - val_accuracy: 0.7544\n",
            "Epoch 20/20\n",
            "190/190 [==============================] - 53s 278ms/step - loss: 0.3861 - accuracy: 0.7421 - val_loss: 0.3565 - val_accuracy: 0.7544\n"
          ]
        },
        {
          "output_type": "execute_result",
          "data": {
            "text/plain": [
              "<keras.callbacks.History at 0x7f7c5bee01f0>"
            ]
          },
          "metadata": {},
          "execution_count": 63
        }
      ],
      "source": [
        "classifier.fit(training_set,\n",
        "                  epochs = 30,\n",
        "                  validation_data = test_set)"
      ]
    },
    {
      "cell_type": "markdown",
      "metadata": {
        "id": "6TM4ZYOU1h5i"
      },
      "source": [
        "#### Saving the Model"
      ]
    },
    {
      "cell_type": "code",
      "execution_count": 64,
      "metadata": {
        "id": "MkVz44Uc1h5i",
        "colab": {
          "base_uri": "https://localhost:8080/"
        },
        "outputId": "08804bb9-2749-48e9-b65c-28006a8480ff"
      },
      "outputs": [
        {
          "output_type": "stream",
          "name": "stdout",
          "text": [
            "Model Saved\n",
            "Weights saved\n"
          ]
        }
      ],
      "source": [
        "model_json = classifier.to_json()\n",
        "with open(\"model_bw-tkdi.json\", \"w\") as json_file:\n",
        "    json_file.write(model_json)\n",
        "print('Model Saved')\n",
        "classifier.save_weights('model_bw-tkdi.h5')\n",
        "print('Weights saved')"
      ]
    },
    {
      "cell_type": "code",
      "execution_count": 58,
      "metadata": {
        "id": "P7c-lEdS1h5i",
        "colab": {
          "base_uri": "https://localhost:8080/"
        },
        "outputId": "2ba3ed1f-dc43-40f7-94c4-49e72f321449"
      },
      "outputs": [
        {
          "output_type": "stream",
          "name": "stdout",
          "text": [
            "Epoch 1/30\n",
            "190/190 [==============================] - 51s 269ms/step - loss: 0.4187 - accuracy: 0.7474 - val_loss: 0.3883 - val_accuracy: 0.7544\n",
            "Epoch 2/30\n",
            "190/190 [==============================] - 54s 284ms/step - loss: 0.3894 - accuracy: 0.7537 - val_loss: 0.3847 - val_accuracy: 0.7544\n",
            "Epoch 3/30\n",
            "190/190 [==============================] - 53s 279ms/step - loss: 0.3946 - accuracy: 0.7511 - val_loss: 0.3816 - val_accuracy: 0.7544\n",
            "Epoch 4/30\n",
            "190/190 [==============================] - 51s 271ms/step - loss: 0.3925 - accuracy: 0.7516 - val_loss: 0.3789 - val_accuracy: 0.7544\n",
            "Epoch 5/30\n",
            "190/190 [==============================] - 52s 276ms/step - loss: 0.3849 - accuracy: 0.7526 - val_loss: 0.3765 - val_accuracy: 0.7544\n",
            "Epoch 6/30\n",
            "190/190 [==============================] - 51s 270ms/step - loss: 0.3905 - accuracy: 0.7511 - val_loss: 0.3744 - val_accuracy: 0.7544\n",
            "Epoch 7/30\n",
            "190/190 [==============================] - 54s 286ms/step - loss: 0.4123 - accuracy: 0.7421 - val_loss: 0.3730 - val_accuracy: 0.7544\n",
            "Epoch 8/30\n",
            "190/190 [==============================] - 51s 268ms/step - loss: 0.3821 - accuracy: 0.7532 - val_loss: 0.3712 - val_accuracy: 0.7544\n",
            "Epoch 9/30\n",
            "190/190 [==============================] - 51s 269ms/step - loss: 0.3822 - accuracy: 0.7516 - val_loss: 0.3697 - val_accuracy: 0.7544\n",
            "Epoch 10/30\n",
            "190/190 [==============================] - 54s 284ms/step - loss: 0.3731 - accuracy: 0.7521 - val_loss: 0.3681 - val_accuracy: 0.7544\n",
            "Epoch 11/30\n",
            "190/190 [==============================] - 51s 270ms/step - loss: 0.3757 - accuracy: 0.7526 - val_loss: 0.3667 - val_accuracy: 0.7544\n",
            "Epoch 12/30\n",
            "190/190 [==============================] - 53s 278ms/step - loss: 0.3765 - accuracy: 0.7532 - val_loss: 0.3655 - val_accuracy: 0.7544\n",
            "Epoch 13/30\n",
            "190/190 [==============================] - 53s 278ms/step - loss: 0.3738 - accuracy: 0.7537 - val_loss: 0.3644 - val_accuracy: 0.7544\n",
            "Epoch 14/30\n",
            "190/190 [==============================] - 51s 271ms/step - loss: 0.3697 - accuracy: 0.7516 - val_loss: 0.3633 - val_accuracy: 0.7544\n",
            "Epoch 15/30\n",
            "190/190 [==============================] - 51s 270ms/step - loss: 0.3704 - accuracy: 0.7526 - val_loss: 0.3624 - val_accuracy: 0.7544\n",
            "Epoch 16/30\n",
            "190/190 [==============================] - 53s 278ms/step - loss: 0.3736 - accuracy: 0.7511 - val_loss: 0.3615 - val_accuracy: 0.7544\n",
            "Epoch 17/30\n",
            "190/190 [==============================] - 53s 277ms/step - loss: 0.3755 - accuracy: 0.7511 - val_loss: 0.3609 - val_accuracy: 0.7544\n",
            "Epoch 18/30\n",
            "190/190 [==============================] - 51s 267ms/step - loss: 0.3788 - accuracy: 0.7500 - val_loss: 0.3603 - val_accuracy: 0.7544\n",
            "Epoch 19/30\n",
            "190/190 [==============================] - 52s 273ms/step - loss: 0.4495 - accuracy: 0.7379 - val_loss: 0.3606 - val_accuracy: 0.7544\n",
            "Epoch 20/30\n",
            "190/190 [==============================] - 52s 274ms/step - loss: 0.3889 - accuracy: 0.7495 - val_loss: 0.3603 - val_accuracy: 0.7544\n",
            "Epoch 21/30\n",
            "190/190 [==============================] - 52s 275ms/step - loss: 0.3714 - accuracy: 0.7516 - val_loss: 0.3599 - val_accuracy: 0.7544\n",
            "Epoch 22/30\n",
            "190/190 [==============================] - 54s 285ms/step - loss: 0.3686 - accuracy: 0.7526 - val_loss: 0.3594 - val_accuracy: 0.7544\n",
            "Epoch 23/30\n",
            "190/190 [==============================] - 52s 273ms/step - loss: 0.3646 - accuracy: 0.7537 - val_loss: 0.3590 - val_accuracy: 0.7544\n",
            "Epoch 24/30\n",
            "190/190 [==============================] - 51s 265ms/step - loss: 0.3619 - accuracy: 0.7532 - val_loss: 0.3584 - val_accuracy: 0.7544\n",
            "Epoch 25/30\n",
            "190/190 [==============================] - 53s 278ms/step - loss: 0.3651 - accuracy: 0.7532 - val_loss: 0.3580 - val_accuracy: 0.7544\n",
            "Epoch 26/30\n",
            "190/190 [==============================] - 51s 270ms/step - loss: 0.3606 - accuracy: 0.7537 - val_loss: 0.3576 - val_accuracy: 0.7544\n",
            "Epoch 27/30\n",
            "190/190 [==============================] - 54s 286ms/step - loss: 0.3604 - accuracy: 0.7537 - val_loss: 0.3571 - val_accuracy: 0.7544\n",
            "Epoch 28/30\n",
            "190/190 [==============================] - 51s 271ms/step - loss: 0.3604 - accuracy: 0.7537 - val_loss: 0.3567 - val_accuracy: 0.7544\n",
            "Epoch 29/30\n",
            "190/190 [==============================] - 51s 270ms/step - loss: 0.3675 - accuracy: 0.7479 - val_loss: 0.3564 - val_accuracy: 0.7544\n",
            "Epoch 30/30\n",
            "190/190 [==============================] - 53s 279ms/step - loss: 0.3639 - accuracy: 0.7542 - val_loss: 0.3561 - val_accuracy: 0.7544\n"
          ]
        },
        {
          "output_type": "execute_result",
          "data": {
            "text/plain": [
              "<keras.callbacks.History at 0x7f7c5beeaca0>"
            ]
          },
          "metadata": {},
          "execution_count": 58
        }
      ],
      "source": [
        "classifier.fit(training_set,\n",
        "                  epochs = 30,\n",
        "                  validation_data = test_set)"
      ]
    }
  ],
  "metadata": {
    "kernelspec": {
      "display_name": "Python 3",
      "language": "python",
      "name": "python3"
    },
    "language_info": {
      "codemirror_mode": {
        "name": "ipython",
        "version": 3
      },
      "file_extension": ".py",
      "mimetype": "text/x-python",
      "name": "python",
      "nbconvert_exporter": "python",
      "pygments_lexer": "ipython3",
      "version": "3.8.6rc1"
    },
    "colab": {
      "provenance": []
    }
  },
  "nbformat": 4,
  "nbformat_minor": 0
}